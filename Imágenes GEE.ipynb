{
 "cells": [
  {
   "cell_type": "markdown",
   "metadata": {
    "id": "f6bFJp5hhN0-"
   },
   "source": [
    "## Descarga de imágenes desde GEE"
   ]
  },
  {
   "cell_type": "code",
   "execution_count": 1,
   "metadata": {
    "collapsed": false,
    "pycharm": {
     "name": "#%%\n"
    }
   },
   "outputs": [
    {
     "data": {
      "text/plain": "<IPython.core.display.HTML object>",
      "text/html": "<p>To authorize access needed by Earth Engine, open the following\n        URL in a web browser and follow the instructions:</p>\n        <p><a href=https://accounts.google.com/o/oauth2/auth?client_id=517222506229-vsmmajv00ul0bs7p89v5m89qs8eb9359.apps.googleusercontent.com&scope=https%3A%2F%2Fwww.googleapis.com%2Fauth%2Fearthengine+https%3A%2F%2Fwww.googleapis.com%2Fauth%2Fdevstorage.full_control&redirect_uri=urn%3Aietf%3Awg%3Aoauth%3A2.0%3Aoob&response_type=code&code_challenge=vXAmRZWZZ5R6t8fcKKNDr8V8THTNpcHJEvX6aSL7SY0&code_challenge_method=S256>https://accounts.google.com/o/oauth2/auth?client_id=517222506229-vsmmajv00ul0bs7p89v5m89qs8eb9359.apps.googleusercontent.com&scope=https%3A%2F%2Fwww.googleapis.com%2Fauth%2Fearthengine+https%3A%2F%2Fwww.googleapis.com%2Fauth%2Fdevstorage.full_control&redirect_uri=urn%3Aietf%3Awg%3Aoauth%3A2.0%3Aoob&response_type=code&code_challenge=vXAmRZWZZ5R6t8fcKKNDr8V8THTNpcHJEvX6aSL7SY0&code_challenge_method=S256</a></p>\n        <p>The authorization workflow will generate a code, which you\n        should paste in the box below</p>\n        "
     },
     "metadata": {},
     "output_type": "display_data"
    },
    {
     "name": "stdout",
     "output_type": "stream",
     "text": [
      "\n",
      "Successfully saved authorization token.\n"
     ]
    }
   ],
   "source": [
    "import ee\n",
    "ee.Authenticate()\n",
    "\n",
    "import collections\n",
    "collections.Callable = collections.abc.Callable\n",
    "ee.Initialize()"
   ]
  },
  {
   "cell_type": "markdown",
   "source": [
    "### Cargando librerías necesarias y estableciendo área de trabajo"
   ],
   "metadata": {
    "collapsed": false
   }
  },
  {
   "cell_type": "code",
   "execution_count": 1,
   "metadata": {
    "executionInfo": {
     "elapsed": 330,
     "status": "ok",
     "timestamp": 1643661280646,
     "user": {
      "displayName": "Juan Sebastian Mendoza Paez",
      "photoUrl": "https://lh3.googleusercontent.com/a/default-user=s64",
      "userId": "18058596667054918054"
     },
     "user_tz": 300
    },
    "id": "3-ynQ5ICjv6P"
   },
   "outputs": [],
   "source": [
    "import pandas as pd\n",
    "import geopandas as gpd\n",
    "import geemap.eefolium as geemap"
   ]
  },
  {
   "cell_type": "code",
   "execution_count": 2,
   "metadata": {
    "colab": {
     "base_uri": "https://localhost:8080/",
     "height": 282
    },
    "executionInfo": {
     "elapsed": 1951,
     "status": "ok",
     "timestamp": 1642203146693,
     "user": {
      "displayName": "Juan Sebastian Mendoza Paez",
      "photoUrl": "https://lh3.googleusercontent.com/a/default-user=s64",
      "userId": "18058596667054918054"
     },
     "user_tz": 300
    },
    "id": "op-iaV5Vj8cu",
    "outputId": "85fdc4f5-76c8-4993-b9d1-48bc079b6c3b"
   },
   "outputs": [
    {
     "data": {
      "text/plain": "<AxesSubplot:>"
     },
     "execution_count": 2,
     "metadata": {},
     "output_type": "execute_result"
    },
    {
     "data": {
      "text/plain": "<Figure size 432x288 with 1 Axes>",
      "image/png": "[encoded data removed]"
     },
     "metadata": {
      "needs_background": "light"
     },
     "output_type": "display_data"
    }
   ],
   "source": [
    "df = gpd.read_file('D:/Drive/Programación/R/R SIG/Biomasa Aérea con imágenes SAR y R/Datos/Tame/Tame.shp', encoding = 'utf-8')\n",
    "df.plot()"
   ]
  },
  {
   "cell_type": "code",
   "execution_count": 3,
   "metadata": {
    "collapsed": false,
    "pycharm": {
     "name": "#%%\n"
    }
   },
   "outputs": [
    {
     "data": {
      "text/plain": "   OBJECTID_1 nom_munici cod_depto nombre_dep     Shape_Leng    Shape_Area  \\\n0       262.0       TAME        81     ARAUCA  418107.073815  5.383997e+09   \n\n                                            geometry  \n0  POLYGON ((-72.31545 6.35717, -72.31442 6.35756...  ",
      "text/html": "<div>\n<style scoped>\n    .dataframe tbody tr th:only-of-type {\n        vertical-align: middle;\n    }\n\n    .dataframe tbody tr th {\n        vertical-align: top;\n    }\n\n    .dataframe thead th {\n        text-align: right;\n    }\n</style>\n<table border=\"1\" class=\"dataframe\">\n  <thead>\n    <tr style=\"text-align: right;\">\n      <th></th>\n      <th>OBJECTID_1</th>\n      <th>nom_munici</th>\n      <th>cod_depto</th>\n      <th>nombre_dep</th>\n      <th>Shape_Leng</th>\n      <th>Shape_Area</th>\n      <th>geometry</th>\n    </tr>\n  </thead>\n  <tbody>\n    <tr>\n      <th>0</th>\n      <td>262.0</td>\n      <td>TAME</td>\n      <td>81</td>\n      <td>ARAUCA</td>\n      <td>418107.073815</td>\n      <td>5.383997e+09</td>\n      <td>POLYGON ((-72.31545 6.35717, -72.31442 6.35756...</td>\n    </tr>\n  </tbody>\n</table>\n</div>"
     },
     "execution_count": 3,
     "metadata": {},
     "output_type": "execute_result"
    }
   ],
   "source": [
    "df = df.to_crs(epsg=4326)\n",
    "df"
   ]
  },
  {
   "cell_type": "markdown",
   "source": [
    "### Obteniendo imagen"
   ],
   "metadata": {
    "collapsed": false
   }
  },
  {
   "cell_type": "markdown",
   "source": [
    "Se obtienen imágenes de:\n",
    "- Mosaico anual (HH - HV): JAXA/ALOS/PALSAR/YEARLY/SAR\n",
    "- Bosque/no bosque: JAXA/ALOS/PALSAR/YEARLY/FNF\n",
    "- Biomasa aérea (2010): NASA/ORNL/biomass_carbon_density/v1"
   ],
   "metadata": {
    "collapsed": false
   }
  },
  {
   "cell_type": "code",
   "execution_count": 35,
   "metadata": {
    "id": "kaOZQh59O_tL"
   },
   "outputs": [
    {
     "name": "stderr",
     "output_type": "stream",
     "text": [
      "C:\\tools\\Anaconda3\\envs\\gee\\lib\\site-packages\\geopandas\\io\\file.py:362: FutureWarning: pandas.Int64Index is deprecated and will be removed from pandas in a future version. Use pandas.Index with the appropriate dtype instead.\n",
      "  pd.Int64Index,\n"
     ]
    },
    {
     "name": "stdout",
     "output_type": "stream",
     "text": [
      "['system:time_start', 'system:footprint', 'system:version', 'system:id', 'system:asset_size', 'system:index', 'system:bands', 'system:band_names']\n"
     ]
    }
   ],
   "source": [
    "geometry = geemap.geopandas_to_ee(df).geometry()\n",
    "imagen = ee.ImageCollection(\"JAXA/ALOS/PALSAR/YEARLY/SAR\").filter(ee.Filter.date('2010-01-01', '2010-12-31')).first()\n",
    "print(imagen.propertyNames().getInfo())"
   ]
  },
  {
   "cell_type": "code",
   "execution_count": 36,
   "metadata": {
    "collapsed": false,
    "pycharm": {
     "name": "#%%\n"
    }
   },
   "outputs": [
    {
     "data": {
      "text/plain": "  Fecha de adiquisión                     Bandas\n0                2010  [HH, HV, angle, date, qa]",
      "text/html": "<div>\n<style scoped>\n    .dataframe tbody tr th:only-of-type {\n        vertical-align: middle;\n    }\n\n    .dataframe tbody tr th {\n        vertical-align: top;\n    }\n\n    .dataframe thead th {\n        text-align: right;\n    }\n</style>\n<table border=\"1\" class=\"dataframe\">\n  <thead>\n    <tr style=\"text-align: right;\">\n      <th></th>\n      <th>Fecha de adiquisión</th>\n      <th>Bandas</th>\n    </tr>\n  </thead>\n  <tbody>\n    <tr>\n      <th>0</th>\n      <td>2010</td>\n      <td>[HH, HV, angle, date, qa]</td>\n    </tr>\n  </tbody>\n</table>\n</div>"
     },
     "execution_count": 36,
     "metadata": {},
     "output_type": "execute_result"
    }
   ],
   "source": [
    "info = {'Fecha de adiquisión': [imagen.get('system:index').getInfo()],\n",
    "        'Bandas': [imagen.get('system:band_names').getInfo()]}\n",
    "pd.DataFrame(info)"
   ]
  },
  {
   "cell_type": "markdown",
   "source": [
    "### Seleccionando bandas de interés y descargando la imagen"
   ],
   "metadata": {
    "collapsed": false
   }
  },
  {
   "cell_type": "code",
   "execution_count": 37,
   "metadata": {
    "id": "CwkhJWCfoypF",
    "pycharm": {
     "name": "#%%\n"
    }
   },
   "outputs": [],
   "source": [
    "bandas = imagen.select([\"HH\", \"HV\"])\n",
    "task_config = {\n",
    "    'scale': 25,\n",
    "    'region': geometry,\n",
    "    'folder': 'Imágenes'\n",
    "    }\n",
    "\n",
    "#geemap.ee_export_image_to_drive(landsat, 'bht_ocaña2', **task_config)\n",
    "task = ee.batch.Export.image(bandas, 'Mosaico', task_config)\n",
    "task.start()"
   ]
  }
 ],
 "metadata": {
  "colab": {
   "authorship_tag": "ABX9TyPJ/9p+nnzIND5nvDHQ59Yu",
   "name": "Landsat.ipynb",
   "provenance": []
  },
  "kernelspec": {
   "display_name": "Python 3",
   "name": "python3"
  },
  "language_info": {
   "codemirror_mode": {
    "name": "ipython",
    "version": 3
   },
   "file_extension": ".py",
   "mimetype": "text/x-python",
   "name": "python",
   "nbconvert_exporter": "python",
   "pygments_lexer": "ipython3",
   "version": "3.10.0"
  }
 },
 "nbformat": 4,
 "nbformat_minor": 0
}